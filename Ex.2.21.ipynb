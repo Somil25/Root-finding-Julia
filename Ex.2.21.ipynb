{
 "cells": [
  {
   "cell_type": "code",
   "execution_count": 3,
   "metadata": {},
   "outputs": [
    {
     "data": {
      "text/plain": [
       "bisection (generic function with 1 method)"
      ]
     },
     "execution_count": 3,
     "metadata": {},
     "output_type": "execute_result"
    }
   ],
   "source": [
    "# Find the root of f(x) = x^3 + 4x^2 -10 using the bisection method, with the some specifications\n",
    "#(a)\n",
    "function bisection(f::Function,a,b,eps,N)\n",
    "         n=1\n",
    "         p=0. # to ensure the value of p carries out of the while loop\n",
    "        while n<=N\n",
    "            p = a+(b-a)/2\n",
    "            println(\"The iteration number is $n and the p obtained is $p\")\n",
    "            if f(p)==0 # Modify  the stopping criterion to only  whether f(p) = 0 \n",
    "               return println(\"The required p is $p and the iteration number is $n\")\n",
    "            end\n",
    "            if f(a)f(p)<0\n",
    "            b=p\n",
    "            else\n",
    "            a=p\n",
    "            end\n",
    "            n=n+1\n",
    "            end\n",
    "            y=f(p)\n",
    "            println(\"Method did not converge. The last iteration gives $p with function value $y\")\n",
    "end\n"
   ]
  },
  {
   "cell_type": "code",
   "execution_count": 4,
   "metadata": {},
   "outputs": [
    {
     "name": "stdout",
     "output_type": "stream",
     "text": [
      "The iteration number is 1 and the p obtained is 1.5\n",
      "The iteration number is 2 and the p obtained is 1.25\n",
      "The iteration number is 3 and the p obtained is 1.375\n",
      "The iteration number is 4 and the p obtained is 1.3125\n",
      "The iteration number is 5 and the p obtained is 1.34375\n",
      "The iteration number is 6 and the p obtained is 1.359375\n",
      "The iteration number is 7 and the p obtained is 1.3671875\n",
      "The iteration number is 8 and the p obtained is 1.36328125\n",
      "The iteration number is 9 and the p obtained is 1.365234375\n",
      "The iteration number is 10 and the p obtained is 1.3642578125\n",
      "The iteration number is 11 and the p obtained is 1.36474609375\n",
      "The iteration number is 12 and the p obtained is 1.364990234375\n",
      "The iteration number is 13 and the p obtained is 1.3651123046875\n",
      "The iteration number is 14 and the p obtained is 1.36517333984375\n",
      "The iteration number is 15 and the p obtained is 1.365203857421875\n",
      "The iteration number is 16 and the p obtained is 1.3652191162109375\n",
      "The iteration number is 17 and the p obtained is 1.3652267456054688\n",
      "The iteration number is 18 and the p obtained is 1.3652305603027344\n",
      "The iteration number is 19 and the p obtained is 1.3652286529541016\n",
      "The iteration number is 20 and the p obtained is 1.365229606628418\n",
      "Method did not converge. The last iteration gives 1.365229606628418 with function value -6.7174129139147e-6\n"
     ]
    }
   ],
   "source": [
    "bisection(x -> x^3 + 4x^2 - 10,1,2,10^(-4.),20) #The function f(x) has one real root in (1; 2), so set a = 1; b = 2.)\n"
   ]
  },
  {
   "cell_type": "code",
   "execution_count": 5,
   "metadata": {},
   "outputs": [
    {
     "data": {
      "text/plain": [
       "13.28771237954945"
      ]
     },
     "execution_count": 5,
     "metadata": {},
     "output_type": "execute_result"
    }
   ],
   "source": [
    "#(b)\n",
    "log(2,10000) #N is the cieling function of the value obtained here\n"
   ]
  },
  {
   "cell_type": "code",
   "execution_count": 6,
   "metadata": {},
   "outputs": [],
   "source": [
    "# Hence number of iterates necessary to obtain the accuracy of 10^(-4) are 14."
   ]
  },
  {
   "cell_type": "code",
   "execution_count": 8,
   "metadata": {},
   "outputs": [
    {
     "name": "stdout",
     "output_type": "stream",
     "text": [
      "The iteration number is 1 and the p obtained is 1.5\n",
      "The iteration number is 2 and the p obtained is 1.25\n",
      "The iteration number is 3 and the p obtained is 1.375\n",
      "The iteration number is 4 and the p obtained is 1.3125\n",
      "The iteration number is 5 and the p obtained is 1.34375\n",
      "The iteration number is 6 and the p obtained is 1.359375\n",
      "The iteration number is 7 and the p obtained is 1.3671875\n",
      "The iteration number is 8 and the p obtained is 1.36328125\n",
      "The iteration number is 9 and the p obtained is 1.365234375\n",
      "The iteration number is 10 and the p obtained is 1.3642578125\n",
      "The iteration number is 11 and the p obtained is 1.36474609375\n",
      "The iteration number is 12 and the p obtained is 1.364990234375\n",
      "The iteration number is 13 and the p obtained is 1.3651123046875\n",
      "The iteration number is 14 and the p obtained is 1.36517333984375\n",
      "Method did not converge. The last iteration gives 1.36517333984375 with function value -0.000935847281880342\n"
     ]
    }
   ],
   "source": [
    "#(c)\n",
    "w=ceil(log(2,10000))\n",
    "bisection(x -> x^3 + 4x^2 - 10,1,2,10^(-4.),w) #Here we have printed p1, p2,...., pN (N=13)"
   ]
  },
  {
   "cell_type": "code",
   "execution_count": 9,
   "metadata": {},
   "outputs": [
    {
     "data": {
      "text/plain": [
       "5.666015624994358e-5"
      ]
     },
     "execution_count": 9,
     "metadata": {},
     "output_type": "execute_result"
    }
   ],
   "source": [
    "#(d)\n",
    "abs(1.36523-1.36517333984375) #the difference between the given root and pN\n"
   ]
  },
  {
   "cell_type": "code",
   "execution_count": null,
   "metadata": {},
   "outputs": [],
   "source": [
    "#Whereas the upper bound of the error taken into account in (b) was 10^(-4) =0.0001\n",
    "#So it turns out that the computed absolute error is even better than the theoretical error."
   ]
  }
 ],
 "metadata": {
  "kernelspec": {
   "display_name": "Julia 1.4.1",
   "language": "julia",
   "name": "julia-1.4"
  },
  "language_info": {
   "file_extension": ".jl",
   "mimetype": "application/julia",
   "name": "julia",
   "version": "1.4.1"
  }
 },
 "nbformat": 4,
 "nbformat_minor": 2
}
